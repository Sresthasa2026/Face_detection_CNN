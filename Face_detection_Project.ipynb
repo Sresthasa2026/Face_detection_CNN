{
  "cells": [
    {
      "cell_type": "code",
      "execution_count": null,
      "metadata": {
        "colab": {
          "base_uri": "https://localhost:8080/"
        },
        "id": "arQenGUdMR9b",
        "outputId": "3a203e90-81e9-40a2-e265-2fd5676859f2"
      },
      "outputs": [],
      "source": [
        "import pickle\n",
        "with open(r\"/content/images.p\",\"rb\") as f:\n",
        "  images=pickle.load(f)\n",
        "print(images.shape)\n",
        "with open(r\"/content/labels.p\",\"rb\") as f:\n",
        "  labels=pickle.load(f)\n",
        "print(labels.shape)\n",
        "print(\"done\")"
      ]
    },
    {
      "cell_type": "code",
      "execution_count": null,
      "metadata": {
        "colab": {
          "base_uri": "https://localhost:8080/"
        },
        "id": "2iJRzG4SNdKs",
        "outputId": "a0ea69fe-ed94-453d-b5bb-b53cd2c9a126"
      },
      "outputs": [],
      "source": [
        "set(labels)"
      ]
    },
    {
      "cell_type": "code",
      "execution_count": null,
      "metadata": {
        "id": "GzG3SFxXOi4R"
      },
      "outputs": [],
      "source": [
        "from sklearn.preprocessing import LabelEncoder\n",
        "le = LabelEncoder()\n",
        "labels = le.fit_transform(labels)"
      ]
    },
    {
      "cell_type": "code",
      "execution_count": null,
      "metadata": {
        "colab": {
          "base_uri": "https://localhost:8080/"
        },
        "id": "z9pcbQZKOlxP",
        "outputId": "003e22ea-516f-4f5f-8917-0028f7d75ba6"
      },
      "outputs": [],
      "source": [
        "set(labels)"
      ]
    },
    {
      "cell_type": "code",
      "execution_count": null,
      "metadata": {
        "colab": {
          "base_uri": "https://localhost:8080/"
        },
        "id": "dQapdWJcOuQZ",
        "outputId": "ffdf3cde-4b4b-4e2d-fcf3-f1552ed83d40"
      },
      "outputs": [],
      "source": [
        "import numpy as np\n",
        "n_persons = len(set(labels))\n",
        "print(\"Number of persons: \", n_persons)\n",
        "label_mapping = le.inverse_transform(np.arange(n_persons))\n",
        "for i in range(len(label_mapping)):\n",
        "  print(i, \"-->\", label_mapping[i])"
      ]
    },
    {
      "cell_type": "code",
      "execution_count": null,
      "metadata": {
        "colab": {
          "base_uri": "https://localhost:8080/",
          "height": 433
        },
        "id": "94cx4DxROwwC",
        "outputId": "b5c12fa0-f27b-4b1a-895a-c1ebdc10cc17"
      },
      "outputs": [],
      "source": [
        "import matplotlib.pyplot as plt\n",
        "\n",
        "plt.imshow(images[20], cmap=plt.get_cmap(\"gray\"))\n",
        "plt.show()"
      ]
    },
    {
      "cell_type": "code",
      "execution_count": null,
      "metadata": {
        "id": "bLxHxFzlO0V0"
      },
      "outputs": [],
      "source": [
        "import cv2\n",
        "def preprocessing(img):\n",
        "  img = cv2.equalizeHist(img)\n",
        "  img = img.reshape(100, 100, 1)\n",
        "  img = img/255\n",
        "  return img"
      ]
    },
    {
      "cell_type": "code",
      "execution_count": null,
      "metadata": {
        "colab": {
          "base_uri": "https://localhost:8080/"
        },
        "id": "KQLdK2O2O8Nu",
        "outputId": "756cb850-3d33-4991-daf4-8376b8bab88e"
      },
      "outputs": [],
      "source": [
        "images = np.array(list(map(preprocessing, images)))\n",
        "print(\"Shape of Input: \", images.shape)"
      ]
    },
    {
      "cell_type": "code",
      "execution_count": null,
      "metadata": {
        "id": "wwg2tX81O_CI"
      },
      "outputs": [],
      "source": [
        "from tensorflow.keras.utils import to_categorical"
      ]
    },
    {
      "cell_type": "code",
      "execution_count": null,
      "metadata": {
        "id": "Wnl5gqL9PB8a"
      },
      "outputs": [],
      "source": [
        "labels = to_categorical(labels)"
      ]
    },
    {
      "cell_type": "code",
      "execution_count": null,
      "metadata": {
        "colab": {
          "base_uri": "https://localhost:8080/"
        },
        "id": "lEX-7AuwPQIb",
        "outputId": "900b53db-17e1-4c84-a9f2-e81e61e60424"
      },
      "outputs": [],
      "source": [
        "categories = labels.shape[1]\n",
        "print(categories)"
      ]
    },
    {
      "cell_type": "code",
      "execution_count": null,
      "metadata": {
        "id": "tSQ2G0zBPSUg"
      },
      "outputs": [],
      "source": [
        "from tensorflow.keras.models import Sequential\n",
        "from tensorflow.keras.layers import Dense\n",
        "from tensorflow.keras.optimizers import Adam\n",
        "# import convolution layer\n",
        "from tensorflow.keras.layers import Conv2D\n",
        "# import pooling layer\n",
        "from tensorflow.keras.layers import MaxPooling2D\n",
        "# import faltten layer\n",
        "from tensorflow.keras.layers import Flatten\n",
        "from tensorflow.keras.optimizers import Adam"
      ]
    },
    {
      "cell_type": "code",
      "execution_count": null,
      "metadata": {
        "id": "Q5QOfkFdPYh0"
      },
      "outputs": [],
      "source": [
        "model = Sequential()\n",
        "model.add(Conv2D(64, (5,5), input_shape=(100, 100, 1), activation=\"relu\"))\n",
        "model.add(Conv2D(64, (5,5), activation=\"relu\"))\n",
        "model.add(MaxPooling2D(pool_size=(2,2)))\n",
        "model.add(Conv2D(32, (3,3), activation=\"relu\"))\n",
        "model.add(Conv2D(32, (3,3), activation=\"relu\"))\n",
        "model.add(MaxPooling2D(pool_size=(2,2)))\n",
        "model.add(Flatten())\n",
        "model.add(Dense(512, activation=\"relu\"))\n",
        "\n",
        "model.add(Dense(4, activation=\"softmax\"))\n",
        "model.compile(Adam(learning_rate=0.0001), loss=\"categorical_crossentropy\", metrics=['accuracy'])"
      ]
    },
    {
      "cell_type": "code",
      "execution_count": null,
      "metadata": {
        "colab": {
          "base_uri": "https://localhost:8080/"
        },
        "id": "0g5nePlVPkkJ",
        "outputId": "284bc25f-f87a-40d0-961d-4578aac5d5c0"
      },
      "outputs": [],
      "source": [
        "model.summary()"
      ]
    },
    {
      "cell_type": "code",
      "execution_count": null,
      "metadata": {
        "colab": {
          "base_uri": "https://localhost:8080/"
        },
        "id": "_pnWBU4yPm2y",
        "outputId": "e459957d-e826-4333-e564-6e4936677116"
      },
      "outputs": [],
      "source": [
        "h=model.fit(images,labels,validation_split=0.2,batch_size=50,epochs=10,verbose=1)"
      ]
    },
    {
      "cell_type": "code",
      "execution_count": null,
      "metadata": {
        "id": "KGbAHXm48PIM"
      },
      "outputs": [],
      "source": []
    },
    {
      "cell_type": "code",
      "execution_count": null,
      "metadata": {
        "id": "Q48pl6clPpmi"
      },
      "outputs": [],
      "source": [
        "from tensorflow.keras.models import Model"
      ]
    },
    {
      "cell_type": "code",
      "execution_count": null,
      "metadata": {
        "colab": {
          "base_uri": "https://localhost:8080/"
        },
        "id": "4NbxWE3pQKv2",
        "outputId": "a5589b4b-d6e0-4785-924f-c9bc12fabb0f"
      },
      "outputs": [],
      "source": [
        "layer0 = Model(model.layers[0].input, model.layers[0].output)\n",
        "features = layer0.predict(images[69].reshape(1,100,100,1))"
      ]
    },
    {
      "cell_type": "code",
      "execution_count": null,
      "metadata": {
        "colab": {
          "base_uri": "https://localhost:8080/"
        },
        "id": "oxfeJy5A9O35",
        "outputId": "857317f4-e4a6-4516-b4bc-c4587e3f6c25"
      },
      "outputs": [],
      "source": [
        "features.shape"
      ]
    },
    {
      "cell_type": "code",
      "execution_count": null,
      "metadata": {
        "colab": {
          "base_uri": "https://localhost:8080/",
          "height": 1000
        },
        "id": "S2jvZwIy9Ruz",
        "outputId": "f3e85b33-d9ec-4456-9f60-17334dde0ed5"
      },
      "outputs": [],
      "source": [
        "plt.figure(figsize=(10,15))\n",
        "for i in range(32):\n",
        "  axes = plt.subplot(8, 4, i+1)\n",
        "  plt.imshow(features[0,:,:,i])"
      ]
    },
    {
      "cell_type": "code",
      "execution_count": null,
      "metadata": {
        "colab": {
          "base_uri": "https://localhost:8080/",
          "height": 73
        },
        "id": "sgBJLIwz9VWq",
        "outputId": "4ba5d612-ca5e-4dbb-c33b-0e9b2bb6f383"
      },
      "outputs": [],
      "source": [
        "from google.colab import files\n",
        "upload=files.upload()"
      ]
    },
    {
      "cell_type": "markdown",
      "metadata": {
        "id": "pyRMsli7_7Oe"
      },
      "source": []
    },
    {
      "cell_type": "code",
      "execution_count": null,
      "metadata": {
        "id": "GknUJ8wc9dXX"
      },
      "outputs": [],
      "source": [
        "d=list(upload.keys())[0]"
      ]
    },
    {
      "cell_type": "code",
      "execution_count": null,
      "metadata": {
        "colab": {
          "base_uri": "https://localhost:8080/",
          "height": 524
        },
        "id": "txkv6NE59iOK",
        "outputId": "62f5e169-b076-4d60-eef9-990275484a85"
      },
      "outputs": [],
      "source": [
        "import cv2\n",
        "a=np.fromstring(upload[d],np.uint8)\n",
        "img=cv2.imdecode(a,cv2.IMREAD_COLOR)\n",
        "img=cv2.cvtColor(img,cv2.COLOR_BGR2GRAY)\n",
        "print(a)\n",
        "plt.imshow(img,cmap=plt.get_cmap(\"gray\"))"
      ]
    },
    {
      "cell_type": "code",
      "execution_count": null,
      "metadata": {
        "id": "d33jMmRg9xVu"
      },
      "outputs": [],
      "source": [
        "img=np.asarray(img)\n",
        "img=cv2.resize(img,(100,100))\n",
        "img=preprocessing(img)\n"
      ]
    },
    {
      "cell_type": "code",
      "execution_count": null,
      "metadata": {
        "colab": {
          "base_uri": "https://localhost:8080/"
        },
        "id": "96GgvW1Z933r",
        "outputId": "dac1bb13-689b-4d03-d207-7b856a3bc37c"
      },
      "outputs": [],
      "source": [
        "img=img.reshape(1,100,100,1)\n",
        "print(model.predict(img))"
      ]
    },
    {
      "cell_type": "code",
      "execution_count": null,
      "metadata": {
        "colab": {
          "base_uri": "https://localhost:8080/"
        },
        "id": "Jl5gWt8296qU",
        "outputId": "71d85aac-f665-42aa-d91e-1a671834414d"
      },
      "outputs": [],
      "source": [
        "prediction=model.predict(img)"
      ]
    },
    {
      "cell_type": "code",
      "execution_count": null,
      "metadata": {
        "colab": {
          "base_uri": "https://localhost:8080/"
        },
        "id": "2vhPYyo299SM",
        "outputId": "d175b93f-31f4-4f5c-da47-d1bc0020eb45"
      },
      "outputs": [],
      "source": [
        "p=np.argmax(prediction,axis=1)\n",
        "p"
      ]
    },
    {
      "cell_type": "code",
      "execution_count": null,
      "metadata": {
        "colab": {
          "base_uri": "https://localhost:8080/"
        },
        "id": "POdHaCmr9_0_",
        "outputId": "408114ab-8db7-4caf-d701-0aecfb451f8e"
      },
      "outputs": [],
      "source": [
        "model.save('finalmodel.h5')"
      ]
    },
    {
      "cell_type": "code",
      "execution_count": null,
      "metadata": {
        "colab": {
          "base_uri": "https://localhost:8080/"
        },
        "id": "8MOt7CsL-Klr",
        "outputId": "8ea2348b-c67b-410a-afee-5e06789f5ce9"
      },
      "outputs": [],
      "source": [
        "from google.colab import drive\n",
        "drive.mount('/content/drive')"
      ]
    },
    {
      "cell_type": "code",
      "execution_count": null,
      "metadata": {
        "id": "RJcmXGux-PEu"
      },
      "outputs": [],
      "source": []
    }
  ],
  "metadata": {
    "colab": {
      "provenance": []
    },
    "kernelspec": {
      "display_name": "Python 3",
      "name": "python3"
    },
    "language_info": {
      "name": "python"
    }
  },
  "nbformat": 4,
  "nbformat_minor": 0
}
